{
 "cells": [
  {
   "cell_type": "code",
   "execution_count": 31,
   "metadata": {},
   "outputs": [],
   "source": [
    "import time\n",
    "from selenium import webdriver\n",
    "from selenium.webdriver.common.by import By\n",
    "from selenium.webdriver import ActionChains\n",
    "from selenium.common.exceptions import NoSuchElementException, StaleElementReferenceException\n",
    "from webdriver_manager.chrome import ChromeDriverManager\n",
    "from selenium.webdriver.chrome.service import Service"
   ]
  },
  {
   "cell_type": "code",
   "execution_count": 32,
   "metadata": {},
   "outputs": [],
   "source": [
    "# browser = webdriver.Chrome() ugh no path chromium \n",
    "# service = \n",
    "browser = webdriver.Chrome(service=Service(ChromeDriverManager().install()))\n"
   ]
  },
  {
   "cell_type": "code",
   "execution_count": 33,
   "metadata": {},
   "outputs": [],
   "source": [
    "def letterByLetter(delay: float):\n",
    "    words = browser.find_element(By.ID, \"words\").find_elements(By.CLASS_NAME, \"word\")\n",
    "    try:\n",
    "        while len(words) != 0:\n",
    "            active_index = [i for i in range(len(words)) if 'active' in words[i].get_attribute('class')][0]\n",
    "            words = words[active_index:]\n",
    "            all_letters = \"\"\n",
    "            for word in words:\n",
    "                letters = word.find_elements(By.TAG_NAME, \"letter\")\n",
    "                for letter in letters:\n",
    "                    all_letters += letter.text\n",
    "                all_letters += \" \"\n",
    "            for letter in all_letters:\n",
    "                ActionChains(browser).send_keys(letter).perform()\n",
    "                time.sleep(delay)\n",
    "            words = browser.find_element(By.ID, \"words\").find_elements(By.CLASS_NAME, \"word\")\n",
    "    except Exception as e:\n",
    "        print(e)\n",
    "    print(\"Game Over\")"
   ]
  },
  {
   "cell_type": "code",
   "execution_count": 34,
   "metadata": {
    "tags": []
   },
   "outputs": [],
   "source": [
    "def allAtOnce(delay: float):\n",
    "    words = browser.find_element(By.ID, \"words\").find_elements(By.CLASS_NAME, \"word\")\n",
    "    try:\n",
    "        while len(words) != 0:\n",
    "            active_index = [i for i in range(len(words)) if 'active' in words[i].get_attribute('class')][0]\n",
    "            words = words[active_index:]\n",
    "            all_letters = \"\"\n",
    "            for word in words:\n",
    "                letters = word.find_elements(By.TAG_NAME, \"letter\")\n",
    "                for letter in letters:\n",
    "                    all_letters += letter.text\n",
    "                all_letters += \" \"\n",
    "            ActionChains(browser).send_keys(all_letters).perform()\n",
    "            time.sleep(delay)\n",
    "            words = browser.find_element(By.ID, \"words\").find_elements(By.CLASS_NAME, \"word\")\n",
    "    except Exception as e:\n",
    "        print(e)\n",
    "    print(\"Game Over\")"
   ]
  },
  {
   "cell_type": "code",
   "execution_count": 35,
   "metadata": {
    "tags": []
   },
   "outputs": [],
   "source": [
    "def wordByWord(delay: float):\n",
    "    try:\n",
    "        while len(browser.find_elements(By.CLASS_NAME, \"word\")) != 0:\n",
    "            ActionChains(browser).send_keys([letter.text for letter in browser.find_element(By.CSS_SELECTOR, \".word.active\").find_elements(By.TAG_NAME, \"letter\")] + [' ']).perform()\n",
    "            time.sleep(delay)\n",
    "    except Exception as e:\n",
    "        print(e)\n",
    "    print(\"Game Over\")"
   ]
  },
  {
   "cell_type": "code",
   "execution_count": 36,
   "metadata": {},
   "outputs": [],
   "source": [
    "def wordLetterByLetter(delay: float):\n",
    "    try:\n",
    "        while len(browser.find_elements(By.CLASS_NAME, \"word\")) != 0:\n",
    "            active_word = browser.find_element(By.CSS_SELECTOR, \".word.active\")\n",
    "            letters = [letter.text for letter in active_word.find_elements(By.TAG_NAME, \"letter\")] + [' ']\n",
    "            for letter in letters:\n",
    "                ActionChains(browser).send_keys(letter).perform()\n",
    "                time.sleep(delay)\n",
    "    except Exception as e:\n",
    "        print(e)\n",
    "    print(\"Game Over\")"
   ]
  },
  {
   "cell_type": "code",
   "execution_count": 37,
   "metadata": {},
   "outputs": [],
   "source": [
    "url = 'https://monkeytype.com/'\n",
    "browser.get(url)"
   ]
  },
  {
   "cell_type": "code",
   "execution_count": 38,
   "metadata": {},
   "outputs": [],
   "source": [
    "try:\n",
    "    accept_cookie_btn = browser.find_element(By.CSS_SELECTOR, \".button.active.acceptAll\")\n",
    "    accept_cookie_btn.click()\n",
    "except Exception:\n",
    "    pass"
   ]
  },
  {
   "cell_type": "code",
   "execution_count": 39,
   "metadata": {},
   "outputs": [],
   "source": [
    "# focus on page\n",
    "browser.find_element(By.CSS_SELECTOR, \".word.active\").click()"
   ]
  },
  {
   "cell_type": "code",
   "execution_count": 40,
   "metadata": {},
   "outputs": [
    {
     "name": "stdout",
     "output_type": "stream",
     "text": [
      "Message: stale element reference: stale element not found in the current frame\n",
      "  (Session info: chrome=131.0.6778.205); For documentation on this error, please visit: https://www.selenium.dev/documentation/webdriver/troubleshooting/errors#stale-element-reference-exception\n",
      "Stacktrace:\n",
      "\tGetHandleVerifier [0x00B7EC13+23731]\n",
      "\t(No symbol) [0x00B0C394]\n",
      "\t(No symbol) [0x009EBE63]\n",
      "\t(No symbol) [0x009F1971]\n",
      "\t(No symbol) [0x009F388A]\n",
      "\t(No symbol) [0x009F3907]\n",
      "\t(No symbol) [0x00A2AE96]\n",
      "\t(No symbol) [0x00A51E5C]\n",
      "\t(No symbol) [0x00A259A4]\n",
      "\t(No symbol) [0x00A520F4]\n",
      "\t(No symbol) [0x00A6B46E]\n",
      "\t(No symbol) [0x00A51BF6]\n",
      "\t(No symbol) [0x00A23F35]\n",
      "\t(No symbol) [0x00A24EBD]\n",
      "\tGetHandleVerifier [0x00E5F0D3+3039603]\n",
      "\tGetHandleVerifier [0x00E72DEA+3120778]\n",
      "\tGetHandleVerifier [0x00E6B592+3089970]\n",
      "\tGetHandleVerifier [0x00C143B0+635984]\n",
      "\t(No symbol) [0x00B14DCD]\n",
      "\t(No symbol) [0x00B12068]\n",
      "\t(No symbol) [0x00B12205]\n",
      "\t(No symbol) [0x00B04FD0]\n",
      "\tBaseThreadInitThunk [0x75397BA9+25]\n",
      "\tRtlInitializeExceptionChain [0x76FEC0CB+107]\n",
      "\tRtlClearBits [0x76FEC04F+191]\n",
      "\n",
      "Game Over\n"
     ]
    }
   ],
   "source": [
    "delay = 0.001\n",
    "\n",
    "# letterByLetter(delay)\n",
    "# allAtOnce(delay)\n",
    "wordByWord(delay)\n",
    "# wordLetterByLetter(delay)"
   ]
  },
  {
   "cell_type": "code",
   "execution_count": null,
   "metadata": {
    "tags": []
   },
   "outputs": [
    {
     "name": "stdout",
     "output_type": "stream",
     "text": [
      "wpm: 142\n",
      "accuracy: 100%\n",
      "consistency: 74%\n"
     ]
    }
   ],
   "source": [
    "wpm = browser.find_element(By.CSS_SELECTOR, \".group.wpm\").find_element(By.CLASS_NAME, \"bottom\").text\n",
    "acc = browser.find_element(By.CSS_SELECTOR, \".group.acc\").find_element(By.CLASS_NAME, \"bottom\").text\n",
    "consistency = browser.find_element(By.CSS_SELECTOR, \".group.flat.consistency\").find_element(By.CLASS_NAME, \"bottom\").text\n",
    "print(\"wpm: \" + wpm)\n",
    "print(\"accuracy: \" + acc)\n",
    "print(\"consistency: \" + consistency)\n",
    "\n",
    "# IM FAST AS FUDGE"
   ]
  },
  {
   "cell_type": "code",
   "execution_count": 42,
   "metadata": {},
   "outputs": [],
   "source": [
    "# browser.close()"
   ]
  },
  {
   "cell_type": "code",
   "execution_count": null,
   "metadata": {},
   "outputs": [],
   "source": []
  }
 ],
 "metadata": {
  "kernelspec": {
   "display_name": "Python 3",
   "language": "python",
   "name": "python3"
  },
  "language_info": {
   "codemirror_mode": {
    "name": "ipython",
    "version": 3
   },
   "file_extension": ".py",
   "mimetype": "text/x-python",
   "name": "python",
   "nbconvert_exporter": "python",
   "pygments_lexer": "ipython3",
   "version": "3.11.9"
  },
  "orig_nbformat": 2
 },
 "nbformat": 4,
 "nbformat_minor": 2
}
